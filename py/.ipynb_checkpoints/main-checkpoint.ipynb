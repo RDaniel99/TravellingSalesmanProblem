{
 "cells": [
  {
   "cell_type": "markdown",
   "metadata": {},
   "source": [
    "## Imports"
   ]
  },
  {
   "cell_type": "code",
   "execution_count": 1,
   "metadata": {},
   "outputs": [],
   "source": [
    "import numpy as np, random, operator, pandas as pd, matplotlib.pyplot as plt\n",
    "import copy"
   ]
  },
  {
   "cell_type": "markdown",
   "metadata": {},
   "source": [
    "## City"
   ]
  },
  {
   "cell_type": "code",
   "execution_count": 2,
   "metadata": {},
   "outputs": [],
   "source": [
    "class City:\n",
    "    def __init__(self, x, y):\n",
    "        self.x = x\n",
    "        self.y = y\n",
    "    \n",
    "    def distance(self, city):\n",
    "        xDis = abs(self.x - city.x)\n",
    "        yDis = abs(self.y - city.y)\n",
    "        distance = np.sqrt((xDis ** 2) + (yDis ** 2))\n",
    "        return distance\n",
    "    \n",
    "    def __repr__(self):\n",
    "        return \"(\" + str(self.x) + \",\" + str(self.y) + \")\"\n"
   ]
  },
  {
   "cell_type": "markdown",
   "metadata": {},
   "source": [
    "## Fitness"
   ]
  },
  {
   "cell_type": "code",
   "execution_count": 3,
   "metadata": {},
   "outputs": [],
   "source": [
    "\n",
    "class Fitness:\n",
    "    def __init__(self, route):\n",
    "        self.route = route\n",
    "        self.distance = 0\n",
    "        self.fitness= 0.0\n",
    "    \n",
    "    def routeDistance(self):\n",
    "        if self.distance ==0:\n",
    "            pathDistance = 0\n",
    "            for i in range(0, len(self.route)):\n",
    "                fromCity = self.route[i]\n",
    "                toCity = None\n",
    "                if i + 1 < len(self.route):\n",
    "                    toCity = self.route[i + 1]\n",
    "                else:\n",
    "                    toCity = self.route[0]\n",
    "                pathDistance += fromCity.distance(toCity)\n",
    "            self.distance = pathDistance\n",
    "        return self.distance\n",
    "    \n",
    "    def routeFitness(self):\n",
    "        if self.fitness == 0:\n",
    "            self.fitness = 1 / float(self.routeDistance())\n",
    "        return self.fitness\n",
    "\n"
   ]
  },
  {
   "cell_type": "markdown",
   "metadata": {},
   "source": [
    "#### Population"
   ]
  },
  {
   "cell_type": "code",
   "execution_count": 4,
   "metadata": {},
   "outputs": [],
   "source": [
    "\n",
    "def createRoute(cityList):\n",
    "    route = random.sample(cityList, len(cityList))\n",
    "    return route\n",
    "\n",
    "\n",
    "def initialPopulation(popSize, cityList):\n",
    "    population = []\n",
    "\n",
    "    for i in range(0, popSize):\n",
    "        population.append(createRoute(cityList))\n",
    "    return population"
   ]
  },
  {
   "cell_type": "markdown",
   "metadata": {},
   "source": [
    "## Selection"
   ]
  },
  {
   "cell_type": "code",
   "execution_count": 5,
   "metadata": {},
   "outputs": [],
   "source": [
    "\n",
    "def rankRoutes(population):\n",
    "    fitnessResults = {}\n",
    "    for i in range(0,len(population)):\n",
    "        fitnessResults[i] = Fitness(population[i]).routeFitness()\n",
    "    return sorted(fitnessResults.items(), key = operator.itemgetter(1), reverse = True)\n",
    "\n",
    "\n",
    "def selection(popRanked, eliteSize):\n",
    "    selectionResults = []\n",
    "    df = pd.DataFrame(np.array(popRanked), columns=[\"Index\",\"Fitness\"])\n",
    "    df['cum_sum'] = df.Fitness.cumsum()\n",
    "    df['cum_perc'] = 100*df.cum_sum/df.Fitness.sum()\n",
    "    \n",
    "    for i in range(0, eliteSize):\n",
    "        selectionResults.append(popRanked[i][0])\n",
    "    for i in range(0, len(popRanked) - eliteSize):\n",
    "        pick = 100*random.random()\n",
    "        for i in range(0, len(popRanked)):\n",
    "            if pick <= df.iat[i,3]:\n",
    "                selectionResults.append(popRanked[i][0])\n",
    "                break\n",
    "    return selectionResults"
   ]
  },
  {
   "cell_type": "markdown",
   "metadata": {},
   "source": [
    "## Crossover"
   ]
  },
  {
   "cell_type": "code",
   "execution_count": null,
   "metadata": {},
   "outputs": [],
   "source": [
    "def getCycle(v1,indexesV1,v2,indexesV2,idx):\n",
    "    cycle=[idx]\n",
    "    start=v1[idx]\n",
    "    current=v1[v2.index(start)]\n",
    "\n",
    "    while (start!=current):\n",
    "        cycle=cycle+[v1.index(current)]\n",
    "        current=v1[v2.index(current)]\n",
    "        \n",
    "    return cycle\n",
    "\n",
    "\n",
    "def crossover(parent1, parent2):\n",
    "    return cyclicCrossover(parent1,parent2)\n",
    "    child = []\n",
    "    \n",
    "    geneA = int(random.random() * len(parent1))\n",
    "    geneB = int(random.random() * len(parent1))\n",
    "    \n",
    "    startGene = min(geneA, geneB)\n",
    "    endGene = max(geneA, geneB)\n",
    "\n",
    "    for i in range(startGene, endGene):\n",
    "        childP1.append(parent1[i])\n",
    "        \n",
    "    childP2 = [item for item in parent2 if item not in childP1]\n",
    "\n",
    "    child = childP1 + childP2\n",
    "    return child\n",
    "\n",
    "def cyclicCrossover(parent1,parent2)\n",
    "    \n",
    "    used  = [ 0 for _ in range(len(parent1))]\n",
    "    child = [-1 for _ in range(len(parent1))]\n",
    "    \n",
    "    fl=0\n",
    "    \n",
    "    for el in range(len(parent1)):\n",
    "        if(used[el]==0):\n",
    "            cycle=getCycle(parent1,parent2,el)\n",
    "            if(parent1[cycle[0]] in child):\n",
    "                continue\n",
    "            if(fl==0):\n",
    "                fl=1\n",
    "                for idx in cycle:\n",
    "                    child[idx]=parent1[idx]\n",
    "                    used[idx]=1\n",
    "            elif(fl==1):\n",
    "                fl=0\n",
    "                for idx in cycle:\n",
    "                    child[idx]=parent2[idx]\n",
    "                    used[idx]=1\n",
    "        else:\n",
    "            continue\n",
    "    return child"
   ]
  },
  {
   "cell_type": "code",
   "execution_count": null,
   "metadata": {},
   "outputs": [],
   "source": [
    "def crossoverPopulation(matingpool, eliteSize):\n",
    "    children = []\n",
    "    length = len(matingpool) - eliteSize\n",
    "    pool = random.sample(matingpool, len(matingpool))\n",
    "\n",
    "    for i in range(0,eliteSize):\n",
    "        children.append(matingpool[i])\n",
    "    \n",
    "    for i in range(0, length):\n",
    "        child = crossover(pool[i], pool[len(matingpool)-i-1])\n",
    "        children.append(child)\n",
    "    return children\n",
    "\n",
    "def crossoverPool(population, selectionResults):\n",
    "    crossoverPool = []\n",
    "    for i in range(0, len(selectionResults)):\n",
    "        index = selectionResults[i]\n",
    "        crossoverPool.append(population[index])\n",
    "    return crossoverPool\n",
    "\n"
   ]
  },
  {
   "cell_type": "markdown",
   "metadata": {},
   "source": [
    "## Mutation"
   ]
  },
  {
   "cell_type": "code",
   "execution_count": 8,
   "metadata": {},
   "outputs": [],
   "source": [
    "def mutate(individual, mutationRate):\n",
    "    for swapped in range(len(individual)):\n",
    "        if(random.random() < mutationRate):\n",
    "            swapWith = int(random.random() * len(individual))\n",
    "            \n",
    "            city1 = individual[swapped]\n",
    "            city2 = individual[swapWith]\n",
    "            \n",
    "            individual[swapped] = city2\n",
    "            individual[swapWith] = city1\n",
    "    return individual\n"
   ]
  },
  {
   "cell_type": "code",
   "execution_count": 9,
   "metadata": {},
   "outputs": [],
   "source": [
    "def mutatePopulation(population, mutationRate):\n",
    "    mutatedPop = []\n",
    "    \n",
    "    for ind in range(0, len(population)):\n",
    "        mutatedInd = mutate(population[ind], mutationRate)\n",
    "        mutatedPop.append(mutatedInd)\n",
    "    return mutatedPop"
   ]
  },
  {
   "cell_type": "markdown",
   "metadata": {},
   "source": [
    "## Encoding/ Decoding"
   ]
  },
  {
   "cell_type": "code",
   "execution_count": 10,
   "metadata": {},
   "outputs": [],
   "source": [
    "def encode(perm):\n",
    "    res=[]\n",
    "    toAdd=[_ for _ in range(len(perm))]\n",
    "    for el in perm:\n",
    "        idx=toAdd.index(el)\n",
    "        res=res+[idx]\n",
    "        toAdd=toAdd[:idx]+toAdd[idx+1:]\n",
    "    return res\n",
    "def decode(encodedPerm):\n",
    "    res=[]\n",
    "    toAdd=[_ for _ in range(len(encodedPerm))]\n",
    "    for el in encodedPerm:\n",
    "        res=res+[toAdd[el]]\n",
    "        toAdd=toAdd[:el]+toAdd[el+1:]\n",
    "    return res\n",
    "    "
   ]
  },
  {
   "cell_type": "markdown",
   "metadata": {},
   "source": [
    "## Evolution"
   ]
  },
  {
   "cell_type": "code",
   "execution_count": 11,
   "metadata": {},
   "outputs": [],
   "source": [
    "def nextGeneration(currentGen, eliteSize, mutationRate):\n",
    "    popRanked = rankRoutes(currentGen)\n",
    "    selectionResults = selection(popRanked, eliteSize)\n",
    "    matingpool = crossoverPool(currentGen, selectionResults)\n",
    "    children = crossoverPopulation(matingpool, eliteSize)\n",
    "    nextGeneration = mutatePopulation(children, mutationRate)\n",
    "    return nextGeneration\n",
    "\n",
    "\n",
    "def geneticAlgorithm(population, popSize, eliteSize, mutationRate, generations):\n",
    "    pop = initialPopulation(popSize, population)\n",
    "    print(\"Initial distance: \" + str(1 / rankRoutes(pop)[0][1]))\n",
    "    for i in range(0, generations):\n",
    "        if(i%10==0):\n",
    "            print('Generation['+str(i)+']'+\"curr distance: \"+ str(1 / rankRoutes(pop)[0][1]))\n",
    "\n",
    "        pop = nextGeneration(pop, eliteSize, mutationRate)\n",
    "    \n",
    "    print(\"Final distance: \" + str(1 / rankRoutes(pop)[0][1]))\n",
    "    bestRouteIndex = rankRoutes(pop)[0][0]\n",
    "    bestRoute = pop[bestRouteIndex]\n",
    "    return bestRoute\n",
    "\n",
    "\n",
    "def geneticAlgorithmPlot(population, popSize, eliteSize, mutationRate, generations):\n",
    "    pop = initialPopulation(popSize, population)\n",
    "    progress = []\n",
    "    progress.append(1 / rankRoutes(pop)[0][1])\n",
    "    \n",
    "    best=(1/rankRoutes(pop)[0][1])\n",
    "    for i in range(0, generations):\n",
    "        if(i%10==0):\n",
    "            print(\"curr distance: \" + str(1 / rankRoutes(pop)[0][1]))\n",
    "        pop = nextGeneration(pop, eliteSize, mutationRate)\n",
    "        progress.append(1 / rankRoutes(pop)[0][1])\n",
    "        \n",
    "        if best>(1/ rankRoutes(pop)[0][1]):\n",
    "            best=(1/ rankRoutes(pop)[0][1])\n",
    "    plt.plot(progress) \n",
    "    plt.ylabel('Distance')\n",
    "    plt.xlabel('Generation')\n",
    "    plt.show()\n",
    "    return best"
   ]
  },
  {
   "cell_type": "markdown",
   "metadata": {},
   "source": [
    "## Reading input"
   ]
  },
  {
   "cell_type": "code",
   "execution_count": 12,
   "metadata": {},
   "outputs": [],
   "source": [
    "cityList=[]\n",
    "input_path=\"./input.txt\"\n",
    "with open(input_path,\"r\") as f:\n",
    "    lines=f.readlines()\n",
    "    for line in lines:\n",
    "        line=line[:-1]\n",
    "        split=line.split(\" \")\n",
    "        while(\"\" in split) : \n",
    "            split.remove(\"\") \n",
    "        x,y=split\n",
    "        cityList.append(City(x=float(x),y=float(y)))"
   ]
  },
  {
   "cell_type": "markdown",
   "metadata": {},
   "source": [
    "# Running script"
   ]
  },
  {
   "cell_type": "code",
   "execution_count": 13,
   "metadata": {},
   "outputs": [],
   "source": [
    "results=[]"
   ]
  },
  {
   "cell_type": "code",
   "execution_count": null,
   "metadata": {
    "scrolled": true
   },
   "outputs": [
    {
     "name": "stdout",
     "output_type": "stream",
     "text": [
      "0\n",
      "curr distance: 42728.86438490316\n",
      "curr distance: 41168.51521387195\n",
      "curr distance: 40351.72179047858\n",
      "curr distance: 41984.42066972636\n",
      "curr distance: 41323.31120749894\n",
      "curr distance: 40379.50162754247\n",
      "curr distance: 40204.50581335394\n",
      "curr distance: 37242.256815355664\n",
      "curr distance: 39534.96305569114\n",
      "curr distance: 40845.63225468893\n",
      "curr distance: 39101.95083805136\n",
      "curr distance: 37746.14505466799\n",
      "curr distance: 41001.034606913\n",
      "curr distance: 39181.39169301698\n",
      "curr distance: 41217.04966958002\n",
      "curr distance: 39802.76907203106\n",
      "curr distance: 40342.00023638208\n",
      "curr distance: 39256.2118973241\n",
      "curr distance: 40043.870904996635\n",
      "curr distance: 40970.50589475\n",
      "curr distance: 40312.18620854893\n",
      "curr distance: 38673.05683636666\n",
      "curr distance: 41306.18517279607\n",
      "curr distance: 40782.38110517831\n",
      "curr distance: 38832.139862379314\n",
      "curr distance: 40096.55662268021\n",
      "curr distance: 40631.758609649056\n",
      "curr distance: 40399.52484467923\n",
      "curr distance: 39785.95600261516\n",
      "curr distance: 40987.84271910658\n",
      "curr distance: 39931.12444898045\n",
      "curr distance: 38995.50971296792\n",
      "curr distance: 39096.347473630514\n",
      "curr distance: 40411.3412688786\n",
      "curr distance: 41449.57511376909\n",
      "curr distance: 41523.78059565546\n",
      "curr distance: 41341.98191874559\n",
      "curr distance: 40204.0319999156\n",
      "curr distance: 39859.81976632651\n",
      "curr distance: 40607.734095924745\n",
      "curr distance: 40048.62392851719\n",
      "curr distance: 40949.25875151726\n",
      "curr distance: 39892.35988452005\n",
      "curr distance: 38421.21742927825\n",
      "curr distance: 39963.99964412975\n",
      "curr distance: 41146.52142656782\n",
      "curr distance: 40263.57362328999\n",
      "curr distance: 40900.8757762875\n",
      "curr distance: 39979.50246841966\n",
      "curr distance: 40733.21196973591\n"
     ]
    },
    {
     "data": {
      "image/png": "[encoded data removed]",
      "text/plain": [
       "<matplotlib.figure.Figure at 0x7fd6dd89b978>"
      ]
     },
     "metadata": {
      "needs_background": "light"
     },
     "output_type": "display_data"
    },
    {
     "name": "stdout",
     "output_type": "stream",
     "text": [
      "{'popSize': 17, 'eliteSize': 3, 'mutationRate': 0.04249564488883859, 'generations': 500}\n",
      "36145.156858104536\n",
      "1\n",
      "curr distance: 43506.71347361277\n",
      "curr distance: 41832.74431722917\n",
      "curr distance: 40057.1722803202\n",
      "curr distance: 39639.22069785684\n",
      "curr distance: 41618.64137031069\n",
      "curr distance: 40390.173267196995\n",
      "curr distance: 40117.28479459729\n",
      "curr distance: 42562.321331023624\n",
      "curr distance: 39243.32439719463\n",
      "curr distance: 39897.93998458153\n",
      "curr distance: 40103.666002553975\n",
      "curr distance: 41412.47223834647\n",
      "curr distance: 41025.37913156773\n",
      "curr distance: 41489.7752207347\n",
      "curr distance: 39779.607661176015\n",
      "curr distance: 41020.11494391046\n",
      "curr distance: 40251.98196456305\n",
      "curr distance: 40209.09931456372\n",
      "curr distance: 40259.61059861443\n",
      "curr distance: 39467.43072478721\n",
      "curr distance: 39650.87913162389\n",
      "curr distance: 40172.296591335195\n",
      "curr distance: 39285.863476074424\n",
      "curr distance: 39866.76570772002\n",
      "curr distance: 39989.6010383176\n",
      "curr distance: 39941.60104254369\n",
      "curr distance: 38424.57646892067\n",
      "curr distance: 41156.016996907594\n",
      "curr distance: 40260.861818454854\n",
      "curr distance: 39257.02465605608\n",
      "curr distance: 40061.291387046316\n",
      "curr distance: 40930.94953041832\n",
      "curr distance: 40216.40983456288\n",
      "curr distance: 40583.21744087921\n",
      "curr distance: 40196.890040716295\n",
      "curr distance: 39341.583041523314\n",
      "curr distance: 39481.43226724518\n",
      "curr distance: 39683.223558300866\n",
      "curr distance: 38664.778562908876\n",
      "curr distance: 38402.314385620186\n",
      "curr distance: 40603.319678961394\n",
      "curr distance: 40687.41254859654\n",
      "curr distance: 41298.01995460917\n",
      "curr distance: 40658.957386928094\n",
      "curr distance: 42195.95966034017\n",
      "curr distance: 41068.08920662529\n",
      "curr distance: 40650.953269952064\n",
      "curr distance: 40974.076688626046\n",
      "curr distance: 38818.24492534689\n",
      "curr distance: 41401.38768156716\n"
     ]
    },
    {
     "data": {
      "image/png": "[encoded data removed]",
      "text/plain": [
       "<matplotlib.figure.Figure at 0x7fd6d8b82208>"
      ]
     },
     "metadata": {
      "needs_background": "light"
     },
     "output_type": "display_data"
    },
    {
     "name": "stdout",
     "output_type": "stream",
     "text": [
      "{'popSize': 30, 'eliteSize': 3, 'mutationRate': 0.04698470868183228, 'generations': 500}\n",
      "37294.549610073234\n",
      "2\n",
      "curr distance: 42248.87841153162\n",
      "curr distance: 42140.2174098096\n",
      "curr distance: 43052.57433995497\n",
      "curr distance: 41248.3333772816\n",
      "curr distance: 43201.593406734755\n",
      "curr distance: 42771.50679214261\n",
      "curr distance: 41822.05644988327\n",
      "curr distance: 43491.8472336358\n",
      "curr distance: 42067.91757611558\n",
      "curr distance: 42546.75935401624\n",
      "curr distance: 41347.078646614245\n",
      "curr distance: 43257.447861375585\n",
      "curr distance: 42625.314019920275\n",
      "curr distance: 43637.000278824606\n",
      "curr distance: 40201.94731118247\n",
      "curr distance: 43599.10292839006\n",
      "curr distance: 43907.4538157834\n",
      "curr distance: 43145.679369170655\n",
      "curr distance: 43312.934391885465\n",
      "curr distance: 42144.81727991254\n",
      "curr distance: 42282.145844105245\n",
      "curr distance: 43577.20159098645\n",
      "curr distance: 42157.777955406505\n",
      "curr distance: 43573.03444752258\n",
      "curr distance: 42877.103093046586\n",
      "curr distance: 43608.59784798619\n",
      "curr distance: 39375.85846971983\n",
      "curr distance: 43349.2453682079\n",
      "curr distance: 42385.26089066963\n",
      "curr distance: 42623.611943503085\n",
      "curr distance: 42854.17114280477\n",
      "curr distance: 42300.35209888829\n",
      "curr distance: 41924.463354491956\n",
      "curr distance: 39912.94118969722\n",
      "curr distance: 40923.00735050627\n",
      "curr distance: 42974.98201372733\n",
      "curr distance: 41466.39602486269\n",
      "curr distance: 42331.71841748863\n",
      "curr distance: 43585.07174587244\n",
      "curr distance: 42883.01596483274\n",
      "curr distance: 42842.23820061238\n",
      "curr distance: 42829.476016599016\n",
      "curr distance: 42367.83095788954\n",
      "curr distance: 42906.89372958814\n",
      "curr distance: 42203.93121934651\n",
      "curr distance: 41190.92958971943\n",
      "curr distance: 42044.48119163954\n",
      "curr distance: 41695.16402216551\n",
      "curr distance: 42379.66599333417\n",
      "curr distance: 41836.35162230943\n"
     ]
    },
    {
     "data": {
      "image/png": "[encoded data removed]",
      "text/plain": [
       "<matplotlib.figure.Figure at 0x7fd6d8ab2550>"
      ]
     },
     "metadata": {
      "needs_background": "light"
     },
     "output_type": "display_data"
    },
    {
     "name": "stdout",
     "output_type": "stream",
     "text": [
      "{'popSize': 39, 'eliteSize': 0, 'mutationRate': 0.08824410392875764, 'generations': 500}\n",
      "38859.77506663537\n",
      "3\n",
      "curr distance: 41574.59778742793\n",
      "curr distance: 40208.50645111833\n",
      "curr distance: 42374.245538651216\n",
      "curr distance: 41906.77836039981\n",
      "curr distance: 41179.81270549792\n",
      "curr distance: 40557.67996595564\n",
      "curr distance: 40541.854948297376\n"
     ]
    }
   ],
   "source": [
    "params={'popSize':100,'eliteSize':10,'mutationRate':0.005,'generations':500}\n",
    "\n",
    "for idx in range(500):\n",
    "    print(idx)\n",
    "    params['popSize']=random.choice([_ for _ in range(15,100)])\n",
    "    params['eliteSize']=int(random.uniform(0,0.2)*params['popSize'])\n",
    "    params['mutationRate']=random.uniform(0,0.1)\n",
    "    \n",
    "    best=geneticAlgorithmPlot(population=cityList, popSize=params['popSize'], eliteSize=params['eliteSize'], mutationRate=params['mutationRate'], generations=params['generations'])\n",
    "\n",
    "    print(params)\n",
    "    print(best)\n",
    "    results=results+[[copy.deepcopy(params),best]]\n"
   ]
  },
  {
   "cell_type": "code",
   "execution_count": null,
   "metadata": {},
   "outputs": [],
   "source": [
    "print(results)"
   ]
  },
  {
   "cell_type": "markdown",
   "metadata": {},
   "source": [
    "# Observatii\n",
    "\n",
    "Rezultatele devin brusc mai bune cand mutation rate-ul scade sub 0.1"
   ]
  },
  {
   "cell_type": "code",
   "execution_count": null,
   "metadata": {},
   "outputs": [],
   "source": [
    "resultsCpy=results"
   ]
  },
  {
   "cell_type": "code",
   "execution_count": null,
   "metadata": {},
   "outputs": [],
   "source": [
    "for idx1 in range(len(results)):\n",
    "    for idx2 in range(idx1,len(results)):\n",
    "        if(results[idx1][1]>results[idx2][1]):\n",
    "            aux=results[idx1]\n",
    "            results[idx1]=results[idx2]\n",
    "            results[idx2]=aux\n",
    "bestResults=results[:30]"
   ]
  },
  {
   "cell_type": "code",
   "execution_count": null,
   "metadata": {
    "scrolled": false
   },
   "outputs": [],
   "source": [
    "for i in range(len(bestResults)):\n",
    "    print(bestResults[i][0])\n",
    "    print(bestResults[i][1])\n",
    "    "
   ]
  },
  {
   "cell_type": "code",
   "execution_count": null,
   "metadata": {
    "scrolled": true
   },
   "outputs": [],
   "source": [
    "for idx in range(len(bestResults)):\n",
    "    params=bestResults[i][0]\n",
    "    res=geneticAlgorithmPlot(population=cityList, popSize=params['popSize'], eliteSize=params['eliteSize'], mutationRate=params['mutationRate'], generations=params['generations'])\n",
    "    print(bestResults[i][0])\n",
    "    print(res)"
   ]
  }
 ],
 "metadata": {
  "kernelspec": {
   "display_name": "Python 3",
   "language": "python",
   "name": "python3"
  },
  "language_info": {
   "codemirror_mode": {
    "name": "ipython",
    "version": 3
   },
   "file_extension": ".py",
   "mimetype": "text/x-python",
   "name": "python",
   "nbconvert_exporter": "python",
   "pygments_lexer": "ipython3",
   "version": "3.7.3"
  }
 },
 "nbformat": 4,
 "nbformat_minor": 2
}
